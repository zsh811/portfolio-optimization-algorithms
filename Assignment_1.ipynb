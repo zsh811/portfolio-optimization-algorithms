{
  "nbformat": 4,
  "nbformat_minor": 0,
  "metadata": {
    "colab": {
      "provenance": [],
      "collapsed_sections": [
        "fCxsIBSjd8IU",
        "ga_EerM9eCGT",
        "bIX8y5BTy0VK"
      ]
    },
    "kernelspec": {
      "name": "python3",
      "display_name": "Python 3"
    },
    "language_info": {
      "name": "python"
    }
  },
  "cells": [
    {
      "cell_type": "markdown",
      "source": [
        "# **COSC 442 - Assignment 1**\n",
        "\n",
        "**By:**\n",
        "- Amna Bubshait (A00723)\n",
        "- Zahra Alshehabi (A00755)\n",
        "\n",
        "\n",
        "**Problem:**\n",
        "\n",
        "Portfolio optimization is a fundamental challenge in finance, where the objective is to select the best combination of investments to maximize returns or minimize risk. In this assignment, we focus on employing hill climbing and genetic algorithms to tackle this problem using a single dataset of S&P 500 companies sourced from Kaggle.\n",
        "\n",
        "This dataset is sufficient for our analysis as it contains all the relevant information needed for optimization, while the other datasets in the folder were deemed unnecessary due to significant missing data.\n",
        "\n",
        "Our goal is to compare the performance of the two algorithms in terms of solution quality, convergence rate, time complexity, and sensitivity to parameters, ultimately identifying which algorithm is more effective for portfolio optimization.\n",
        "\n",
        "_Dataset URL:_ [Click here](https://www.kaggle.com/datasets/andrewmvd/sp-500-stocks/data)"
      ],
      "metadata": {
        "id": "2j_BkJ3BlQyy"
      }
    },
    {
      "cell_type": "markdown",
      "source": [
        "# **1. Load and Explore the Dataset:**"
      ],
      "metadata": {
        "id": "fCxsIBSjd8IU"
      }
    },
    {
      "cell_type": "code",
      "execution_count": 35,
      "metadata": {
        "id": "BMw3tF7FzzaA",
        "colab": {
          "base_uri": "https://localhost:8080/"
        },
        "outputId": "6e84c815-497d-4db7-d4b2-221ec7609d86"
      },
      "outputs": [
        {
          "output_type": "stream",
          "name": "stdout",
          "text": [
            "Path to dataset files: /root/.cache/kagglehub/datasets/andrewmvd/sp-500-stocks/versions/1023\n"
          ]
        }
      ],
      "source": [
        "import kagglehub\n",
        "\n",
        "# Download latest version\n",
        "path = kagglehub.dataset_download(\"andrewmvd/sp-500-stocks\")\n",
        "\n",
        "print(\"Path to dataset files:\", path)"
      ]
    },
    {
      "cell_type": "code",
      "source": [
        "# Import libraries\n",
        "import random\n",
        "import time\n",
        "import sys\n",
        "import numpy as np\n",
        "import pandas as pd\n",
        "import matplotlib.pyplot as plt\n",
        "import seaborn as sns\n",
        "from sklearn.impute import SimpleImputer\n",
        "from sklearn.preprocessing import StandardScaler, LabelEncoder"
      ],
      "metadata": {
        "id": "ONTF7hUXbDr9"
      },
      "execution_count": 36,
      "outputs": []
    },
    {
      "cell_type": "code",
      "source": [
        "# Load the datasets\n",
        "df_companies = pd.read_csv('/root/.cache/kagglehub/datasets/andrewmvd/sp-500-stocks/versions/1023/sp500_companies.csv')"
      ],
      "metadata": {
        "id": "PPuQiZ7-bJCK"
      },
      "execution_count": 37,
      "outputs": []
    },
    {
      "cell_type": "code",
      "source": [
        "# Preview the datasets\n",
        "df_companies.head()"
      ],
      "metadata": {
        "colab": {
          "base_uri": "https://localhost:8080/",
          "height": 394
        },
        "id": "VSEG2CE4cK_m",
        "outputId": "1ea36d68-0812-4fa1-9c1a-0c6dd6f13423"
      },
      "execution_count": 38,
      "outputs": [
        {
          "output_type": "execute_result",
          "data": {
            "text/plain": [
              "  Exchange Symbol              Shortname               Longname  \\\n",
              "0      NMS   AAPL             Apple Inc.             Apple Inc.   \n",
              "1      NMS   NVDA     NVIDIA Corporation     NVIDIA Corporation   \n",
              "2      NMS   MSFT  Microsoft Corporation  Microsoft Corporation   \n",
              "3      NMS   AMZN       Amazon.com, Inc.       Amazon.com, Inc.   \n",
              "4      NMS  GOOGL          Alphabet Inc.          Alphabet Inc.   \n",
              "\n",
              "                   Sector                        Industry  Currentprice  \\\n",
              "0              Technology            Consumer Electronics        254.49   \n",
              "1              Technology                  Semiconductors        134.70   \n",
              "2              Technology       Software - Infrastructure        436.60   \n",
              "3       Consumer Cyclical                 Internet Retail        224.92   \n",
              "4  Communication Services  Internet Content & Information        191.41   \n",
              "\n",
              "       Marketcap        Ebitda  Revenuegrowth           City State  \\\n",
              "0  3846819807232  1.346610e+11          0.061      Cupertino    CA   \n",
              "1  3298803056640  6.118400e+10          1.224    Santa Clara    CA   \n",
              "2  3246068596736  1.365520e+11          0.160        Redmond    WA   \n",
              "3  2365033807872  1.115830e+11          0.110        Seattle    WA   \n",
              "4  2351625142272  1.234700e+11          0.151  Mountain View    CA   \n",
              "\n",
              "         Country  Fulltimeemployees  \\\n",
              "0  United States           164000.0   \n",
              "1  United States            29600.0   \n",
              "2  United States           228000.0   \n",
              "3  United States          1551000.0   \n",
              "4  United States           181269.0   \n",
              "\n",
              "                                 Longbusinesssummary    Weight  \n",
              "0  Apple Inc. designs, manufactures, and markets ...  0.069209  \n",
              "1  NVIDIA Corporation provides graphics and compu...  0.059350  \n",
              "2  Microsoft Corporation develops and supports so...  0.058401  \n",
              "3  Amazon.com, Inc. engages in the retail sale of...  0.042550  \n",
              "4  Alphabet Inc. offers various products and plat...  0.042309  "
            ],
            "text/html": [
              "\n",
              "  <div id=\"df-88d79812-0f9b-447e-a701-062f0aac2173\" class=\"colab-df-container\">\n",
              "    <div>\n",
              "<style scoped>\n",
              "    .dataframe tbody tr th:only-of-type {\n",
              "        vertical-align: middle;\n",
              "    }\n",
              "\n",
              "    .dataframe tbody tr th {\n",
              "        vertical-align: top;\n",
              "    }\n",
              "\n",
              "    .dataframe thead th {\n",
              "        text-align: right;\n",
              "    }\n",
              "</style>\n",
              "<table border=\"1\" class=\"dataframe\">\n",
              "  <thead>\n",
              "    <tr style=\"text-align: right;\">\n",
              "      <th></th>\n",
              "      <th>Exchange</th>\n",
              "      <th>Symbol</th>\n",
              "      <th>Shortname</th>\n",
              "      <th>Longname</th>\n",
              "      <th>Sector</th>\n",
              "      <th>Industry</th>\n",
              "      <th>Currentprice</th>\n",
              "      <th>Marketcap</th>\n",
              "      <th>Ebitda</th>\n",
              "      <th>Revenuegrowth</th>\n",
              "      <th>City</th>\n",
              "      <th>State</th>\n",
              "      <th>Country</th>\n",
              "      <th>Fulltimeemployees</th>\n",
              "      <th>Longbusinesssummary</th>\n",
              "      <th>Weight</th>\n",
              "    </tr>\n",
              "  </thead>\n",
              "  <tbody>\n",
              "    <tr>\n",
              "      <th>0</th>\n",
              "      <td>NMS</td>\n",
              "      <td>AAPL</td>\n",
              "      <td>Apple Inc.</td>\n",
              "      <td>Apple Inc.</td>\n",
              "      <td>Technology</td>\n",
              "      <td>Consumer Electronics</td>\n",
              "      <td>254.49</td>\n",
              "      <td>3846819807232</td>\n",
              "      <td>1.346610e+11</td>\n",
              "      <td>0.061</td>\n",
              "      <td>Cupertino</td>\n",
              "      <td>CA</td>\n",
              "      <td>United States</td>\n",
              "      <td>164000.0</td>\n",
              "      <td>Apple Inc. designs, manufactures, and markets ...</td>\n",
              "      <td>0.069209</td>\n",
              "    </tr>\n",
              "    <tr>\n",
              "      <th>1</th>\n",
              "      <td>NMS</td>\n",
              "      <td>NVDA</td>\n",
              "      <td>NVIDIA Corporation</td>\n",
              "      <td>NVIDIA Corporation</td>\n",
              "      <td>Technology</td>\n",
              "      <td>Semiconductors</td>\n",
              "      <td>134.70</td>\n",
              "      <td>3298803056640</td>\n",
              "      <td>6.118400e+10</td>\n",
              "      <td>1.224</td>\n",
              "      <td>Santa Clara</td>\n",
              "      <td>CA</td>\n",
              "      <td>United States</td>\n",
              "      <td>29600.0</td>\n",
              "      <td>NVIDIA Corporation provides graphics and compu...</td>\n",
              "      <td>0.059350</td>\n",
              "    </tr>\n",
              "    <tr>\n",
              "      <th>2</th>\n",
              "      <td>NMS</td>\n",
              "      <td>MSFT</td>\n",
              "      <td>Microsoft Corporation</td>\n",
              "      <td>Microsoft Corporation</td>\n",
              "      <td>Technology</td>\n",
              "      <td>Software - Infrastructure</td>\n",
              "      <td>436.60</td>\n",
              "      <td>3246068596736</td>\n",
              "      <td>1.365520e+11</td>\n",
              "      <td>0.160</td>\n",
              "      <td>Redmond</td>\n",
              "      <td>WA</td>\n",
              "      <td>United States</td>\n",
              "      <td>228000.0</td>\n",
              "      <td>Microsoft Corporation develops and supports so...</td>\n",
              "      <td>0.058401</td>\n",
              "    </tr>\n",
              "    <tr>\n",
              "      <th>3</th>\n",
              "      <td>NMS</td>\n",
              "      <td>AMZN</td>\n",
              "      <td>Amazon.com, Inc.</td>\n",
              "      <td>Amazon.com, Inc.</td>\n",
              "      <td>Consumer Cyclical</td>\n",
              "      <td>Internet Retail</td>\n",
              "      <td>224.92</td>\n",
              "      <td>2365033807872</td>\n",
              "      <td>1.115830e+11</td>\n",
              "      <td>0.110</td>\n",
              "      <td>Seattle</td>\n",
              "      <td>WA</td>\n",
              "      <td>United States</td>\n",
              "      <td>1551000.0</td>\n",
              "      <td>Amazon.com, Inc. engages in the retail sale of...</td>\n",
              "      <td>0.042550</td>\n",
              "    </tr>\n",
              "    <tr>\n",
              "      <th>4</th>\n",
              "      <td>NMS</td>\n",
              "      <td>GOOGL</td>\n",
              "      <td>Alphabet Inc.</td>\n",
              "      <td>Alphabet Inc.</td>\n",
              "      <td>Communication Services</td>\n",
              "      <td>Internet Content &amp; Information</td>\n",
              "      <td>191.41</td>\n",
              "      <td>2351625142272</td>\n",
              "      <td>1.234700e+11</td>\n",
              "      <td>0.151</td>\n",
              "      <td>Mountain View</td>\n",
              "      <td>CA</td>\n",
              "      <td>United States</td>\n",
              "      <td>181269.0</td>\n",
              "      <td>Alphabet Inc. offers various products and plat...</td>\n",
              "      <td>0.042309</td>\n",
              "    </tr>\n",
              "  </tbody>\n",
              "</table>\n",
              "</div>\n",
              "    <div class=\"colab-df-buttons\">\n",
              "\n",
              "  <div class=\"colab-df-container\">\n",
              "    <button class=\"colab-df-convert\" onclick=\"convertToInteractive('df-88d79812-0f9b-447e-a701-062f0aac2173')\"\n",
              "            title=\"Convert this dataframe to an interactive table.\"\n",
              "            style=\"display:none;\">\n",
              "\n",
              "  <svg xmlns=\"http://www.w3.org/2000/svg\" height=\"24px\" viewBox=\"0 -960 960 960\">\n",
              "    <path d=\"M120-120v-720h720v720H120Zm60-500h600v-160H180v160Zm220 220h160v-160H400v160Zm0 220h160v-160H400v160ZM180-400h160v-160H180v160Zm440 0h160v-160H620v160ZM180-180h160v-160H180v160Zm440 0h160v-160H620v160Z\"/>\n",
              "  </svg>\n",
              "    </button>\n",
              "\n",
              "  <style>\n",
              "    .colab-df-container {\n",
              "      display:flex;\n",
              "      gap: 12px;\n",
              "    }\n",
              "\n",
              "    .colab-df-convert {\n",
              "      background-color: #E8F0FE;\n",
              "      border: none;\n",
              "      border-radius: 50%;\n",
              "      cursor: pointer;\n",
              "      display: none;\n",
              "      fill: #1967D2;\n",
              "      height: 32px;\n",
              "      padding: 0 0 0 0;\n",
              "      width: 32px;\n",
              "    }\n",
              "\n",
              "    .colab-df-convert:hover {\n",
              "      background-color: #E2EBFA;\n",
              "      box-shadow: 0px 1px 2px rgba(60, 64, 67, 0.3), 0px 1px 3px 1px rgba(60, 64, 67, 0.15);\n",
              "      fill: #174EA6;\n",
              "    }\n",
              "\n",
              "    .colab-df-buttons div {\n",
              "      margin-bottom: 4px;\n",
              "    }\n",
              "\n",
              "    [theme=dark] .colab-df-convert {\n",
              "      background-color: #3B4455;\n",
              "      fill: #D2E3FC;\n",
              "    }\n",
              "\n",
              "    [theme=dark] .colab-df-convert:hover {\n",
              "      background-color: #434B5C;\n",
              "      box-shadow: 0px 1px 3px 1px rgba(0, 0, 0, 0.15);\n",
              "      filter: drop-shadow(0px 1px 2px rgba(0, 0, 0, 0.3));\n",
              "      fill: #FFFFFF;\n",
              "    }\n",
              "  </style>\n",
              "\n",
              "    <script>\n",
              "      const buttonEl =\n",
              "        document.querySelector('#df-88d79812-0f9b-447e-a701-062f0aac2173 button.colab-df-convert');\n",
              "      buttonEl.style.display =\n",
              "        google.colab.kernel.accessAllowed ? 'block' : 'none';\n",
              "\n",
              "      async function convertToInteractive(key) {\n",
              "        const element = document.querySelector('#df-88d79812-0f9b-447e-a701-062f0aac2173');\n",
              "        const dataTable =\n",
              "          await google.colab.kernel.invokeFunction('convertToInteractive',\n",
              "                                                    [key], {});\n",
              "        if (!dataTable) return;\n",
              "\n",
              "        const docLinkHtml = 'Like what you see? Visit the ' +\n",
              "          '<a target=\"_blank\" href=https://colab.research.google.com/notebooks/data_table.ipynb>data table notebook</a>'\n",
              "          + ' to learn more about interactive tables.';\n",
              "        element.innerHTML = '';\n",
              "        dataTable['output_type'] = 'display_data';\n",
              "        await google.colab.output.renderOutput(dataTable, element);\n",
              "        const docLink = document.createElement('div');\n",
              "        docLink.innerHTML = docLinkHtml;\n",
              "        element.appendChild(docLink);\n",
              "      }\n",
              "    </script>\n",
              "  </div>\n",
              "\n",
              "\n",
              "<div id=\"df-7b3d8dcd-c5ce-465b-9a81-6766e4e0a8ef\">\n",
              "  <button class=\"colab-df-quickchart\" onclick=\"quickchart('df-7b3d8dcd-c5ce-465b-9a81-6766e4e0a8ef')\"\n",
              "            title=\"Suggest charts\"\n",
              "            style=\"display:none;\">\n",
              "\n",
              "<svg xmlns=\"http://www.w3.org/2000/svg\" height=\"24px\"viewBox=\"0 0 24 24\"\n",
              "     width=\"24px\">\n",
              "    <g>\n",
              "        <path d=\"M19 3H5c-1.1 0-2 .9-2 2v14c0 1.1.9 2 2 2h14c1.1 0 2-.9 2-2V5c0-1.1-.9-2-2-2zM9 17H7v-7h2v7zm4 0h-2V7h2v10zm4 0h-2v-4h2v4z\"/>\n",
              "    </g>\n",
              "</svg>\n",
              "  </button>\n",
              "\n",
              "<style>\n",
              "  .colab-df-quickchart {\n",
              "      --bg-color: #E8F0FE;\n",
              "      --fill-color: #1967D2;\n",
              "      --hover-bg-color: #E2EBFA;\n",
              "      --hover-fill-color: #174EA6;\n",
              "      --disabled-fill-color: #AAA;\n",
              "      --disabled-bg-color: #DDD;\n",
              "  }\n",
              "\n",
              "  [theme=dark] .colab-df-quickchart {\n",
              "      --bg-color: #3B4455;\n",
              "      --fill-color: #D2E3FC;\n",
              "      --hover-bg-color: #434B5C;\n",
              "      --hover-fill-color: #FFFFFF;\n",
              "      --disabled-bg-color: #3B4455;\n",
              "      --disabled-fill-color: #666;\n",
              "  }\n",
              "\n",
              "  .colab-df-quickchart {\n",
              "    background-color: var(--bg-color);\n",
              "    border: none;\n",
              "    border-radius: 50%;\n",
              "    cursor: pointer;\n",
              "    display: none;\n",
              "    fill: var(--fill-color);\n",
              "    height: 32px;\n",
              "    padding: 0;\n",
              "    width: 32px;\n",
              "  }\n",
              "\n",
              "  .colab-df-quickchart:hover {\n",
              "    background-color: var(--hover-bg-color);\n",
              "    box-shadow: 0 1px 2px rgba(60, 64, 67, 0.3), 0 1px 3px 1px rgba(60, 64, 67, 0.15);\n",
              "    fill: var(--button-hover-fill-color);\n",
              "  }\n",
              "\n",
              "  .colab-df-quickchart-complete:disabled,\n",
              "  .colab-df-quickchart-complete:disabled:hover {\n",
              "    background-color: var(--disabled-bg-color);\n",
              "    fill: var(--disabled-fill-color);\n",
              "    box-shadow: none;\n",
              "  }\n",
              "\n",
              "  .colab-df-spinner {\n",
              "    border: 2px solid var(--fill-color);\n",
              "    border-color: transparent;\n",
              "    border-bottom-color: var(--fill-color);\n",
              "    animation:\n",
              "      spin 1s steps(1) infinite;\n",
              "  }\n",
              "\n",
              "  @keyframes spin {\n",
              "    0% {\n",
              "      border-color: transparent;\n",
              "      border-bottom-color: var(--fill-color);\n",
              "      border-left-color: var(--fill-color);\n",
              "    }\n",
              "    20% {\n",
              "      border-color: transparent;\n",
              "      border-left-color: var(--fill-color);\n",
              "      border-top-color: var(--fill-color);\n",
              "    }\n",
              "    30% {\n",
              "      border-color: transparent;\n",
              "      border-left-color: var(--fill-color);\n",
              "      border-top-color: var(--fill-color);\n",
              "      border-right-color: var(--fill-color);\n",
              "    }\n",
              "    40% {\n",
              "      border-color: transparent;\n",
              "      border-right-color: var(--fill-color);\n",
              "      border-top-color: var(--fill-color);\n",
              "    }\n",
              "    60% {\n",
              "      border-color: transparent;\n",
              "      border-right-color: var(--fill-color);\n",
              "    }\n",
              "    80% {\n",
              "      border-color: transparent;\n",
              "      border-right-color: var(--fill-color);\n",
              "      border-bottom-color: var(--fill-color);\n",
              "    }\n",
              "    90% {\n",
              "      border-color: transparent;\n",
              "      border-bottom-color: var(--fill-color);\n",
              "    }\n",
              "  }\n",
              "</style>\n",
              "\n",
              "  <script>\n",
              "    async function quickchart(key) {\n",
              "      const quickchartButtonEl =\n",
              "        document.querySelector('#' + key + ' button');\n",
              "      quickchartButtonEl.disabled = true;  // To prevent multiple clicks.\n",
              "      quickchartButtonEl.classList.add('colab-df-spinner');\n",
              "      try {\n",
              "        const charts = await google.colab.kernel.invokeFunction(\n",
              "            'suggestCharts', [key], {});\n",
              "      } catch (error) {\n",
              "        console.error('Error during call to suggestCharts:', error);\n",
              "      }\n",
              "      quickchartButtonEl.classList.remove('colab-df-spinner');\n",
              "      quickchartButtonEl.classList.add('colab-df-quickchart-complete');\n",
              "    }\n",
              "    (() => {\n",
              "      let quickchartButtonEl =\n",
              "        document.querySelector('#df-7b3d8dcd-c5ce-465b-9a81-6766e4e0a8ef button');\n",
              "      quickchartButtonEl.style.display =\n",
              "        google.colab.kernel.accessAllowed ? 'block' : 'none';\n",
              "    })();\n",
              "  </script>\n",
              "</div>\n",
              "\n",
              "    </div>\n",
              "  </div>\n"
            ],
            "application/vnd.google.colaboratory.intrinsic+json": {
              "type": "dataframe",
              "variable_name": "df_companies",
              "summary": "{\n  \"name\": \"df_companies\",\n  \"rows\": 502,\n  \"fields\": [\n    {\n      \"column\": \"Exchange\",\n      \"properties\": {\n        \"dtype\": \"category\",\n        \"num_unique_values\": 4,\n        \"samples\": [\n          \"NYQ\",\n          \"NGM\",\n          \"NMS\"\n        ],\n        \"semantic_type\": \"\",\n        \"description\": \"\"\n      }\n    },\n    {\n      \"column\": \"Symbol\",\n      \"properties\": {\n        \"dtype\": \"string\",\n        \"num_unique_values\": 502,\n        \"samples\": [\n          \"DECK\",\n          \"KKR\",\n          \"ANSS\"\n        ],\n        \"semantic_type\": \"\",\n        \"description\": \"\"\n      }\n    },\n    {\n      \"column\": \"Shortname\",\n      \"properties\": {\n        \"dtype\": \"string\",\n        \"num_unique_values\": 499,\n        \"samples\": [\n          \"Bio-Techne Corp\",\n          \"Charles Schwab Corporation (The\",\n          \"Hess Corporation\"\n        ],\n        \"semantic_type\": \"\",\n        \"description\": \"\"\n      }\n    },\n    {\n      \"column\": \"Longname\",\n      \"properties\": {\n        \"dtype\": \"string\",\n        \"num_unique_values\": 499,\n        \"samples\": [\n          \"Bio-Techne Corporation\",\n          \"The Charles Schwab Corporation\",\n          \"Hess Corporation\"\n        ],\n        \"semantic_type\": \"\",\n        \"description\": \"\"\n      }\n    },\n    {\n      \"column\": \"Sector\",\n      \"properties\": {\n        \"dtype\": \"category\",\n        \"num_unique_values\": 11,\n        \"samples\": [\n          \"Healthcare\",\n          \"Technology\",\n          \"Utilities\"\n        ],\n        \"semantic_type\": \"\",\n        \"description\": \"\"\n      }\n    },\n    {\n      \"column\": \"Industry\",\n      \"properties\": {\n        \"dtype\": \"category\",\n        \"num_unique_values\": 114,\n        \"samples\": [\n          \"Consulting Services\",\n          \"Internet Content & Information\",\n          \"Semiconductor Equipment & Materials\"\n        ],\n        \"semantic_type\": \"\",\n        \"description\": \"\"\n      }\n    },\n    {\n      \"column\": \"Currentprice\",\n      \"properties\": {\n        \"dtype\": \"number\",\n        \"std\": 489.20502652018973,\n        \"min\": 9.4,\n        \"max\": 8276.78,\n        \"num_unique_values\": 499,\n        \"samples\": [\n          109.89,\n          147.58,\n          57.48\n        ],\n        \"semantic_type\": \"\",\n        \"description\": \"\"\n      }\n    },\n    {\n      \"column\": \"Marketcap\",\n      \"properties\": {\n        \"dtype\": \"number\",\n        \"std\": 344007401496,\n        \"min\": 4664099328,\n        \"max\": 3846819807232,\n        \"num_unique_values\": 502,\n        \"samples\": [\n          32050984960,\n          136186535936,\n          29591330816\n        ],\n        \"semantic_type\": \"\",\n        \"description\": \"\"\n      }\n    },\n    {\n      \"column\": \"Ebitda\",\n      \"properties\": {\n        \"dtype\": \"number\",\n        \"std\": 16242128052.501644,\n        \"min\": -3991000064.0,\n        \"max\": 149547008000.0,\n        \"num_unique_values\": 469,\n        \"samples\": [\n          9164000256.0,\n          14364000256.0,\n          16750999552.0\n        ],\n        \"semantic_type\": \"\",\n        \"description\": \"\"\n      }\n    },\n    {\n      \"column\": \"Revenuegrowth\",\n      \"properties\": {\n        \"dtype\": \"number\",\n        \"std\": 0.18024695190297257,\n        \"min\": -0.602,\n        \"max\": 1.632,\n        \"num_unique_values\": 260,\n        \"samples\": [\n          -0.056,\n          0.201,\n          0.313\n        ],\n        \"semantic_type\": \"\",\n        \"description\": \"\"\n      }\n    },\n    {\n      \"column\": \"City\",\n      \"properties\": {\n        \"dtype\": \"category\",\n        \"num_unique_values\": 235,\n        \"samples\": [\n          \"Cleveland\",\n          \"Madison\",\n          \"North Reading\"\n        ],\n        \"semantic_type\": \"\",\n        \"description\": \"\"\n      }\n    },\n    {\n      \"column\": \"State\",\n      \"properties\": {\n        \"dtype\": \"category\",\n        \"num_unique_values\": 41,\n        \"samples\": [\n          \"ID\",\n          \"MA\",\n          \"OH\"\n        ],\n        \"semantic_type\": \"\",\n        \"description\": \"\"\n      }\n    },\n    {\n      \"column\": \"Country\",\n      \"properties\": {\n        \"dtype\": \"category\",\n        \"num_unique_values\": 8,\n        \"samples\": [\n          \"Ireland\",\n          \"Canada\",\n          \"United States\"\n        ],\n        \"semantic_type\": \"\",\n        \"description\": \"\"\n      }\n    },\n    {\n      \"column\": \"Fulltimeemployees\",\n      \"properties\": {\n        \"dtype\": \"number\",\n        \"std\": 139598.81229761872,\n        \"min\": 28.0,\n        \"max\": 2100000.0,\n        \"num_unique_values\": 387,\n        \"samples\": [\n          12600.0,\n          16835.0,\n          5400.0\n        ],\n        \"semantic_type\": \"\",\n        \"description\": \"\"\n      }\n    },\n    {\n      \"column\": \"Longbusinesssummary\",\n      \"properties\": {\n        \"dtype\": \"string\",\n        \"num_unique_values\": 499,\n        \"samples\": [\n          \"Bio-Techne Corporation, together with its subsidiaries, develops, manufactures, and sells life science reagents, instruments, and services for the research, diagnostics, and bioprocessing markets worldwide. The company operates through two segments, Protein Sciences, and Diagnostics and Genomics. The Protein Sciences segment develops and manufactures biological reagents used in various aspects of life science research, diagnostics, and cell and gene therapy, such as cytokines and growth factors, antibodies, small molecules, tissue culture sera, and cell selection technologies. This segment also offers proteomic analytical tools for automated western blot and multiplexed ELISA workflow consists of manual and automated protein analysis instruments and immunoassays for use in quantifying proteins in various biological fluids. The Diagnostics and Genomics segment develops and manufactures diagnostic products, including controls, calibrators, and diagnostic assays for regulated diagnostics market, exosome-based molecular diagnostic assays, advanced tissue-based in-situ hybridization assays for spatial genomic and tissue biopsy analysis, and genetic and oncology kits for research and clinical applications; and sells products for genetic carrier screening, oncology diagnostics, molecular controls, and research, as well as instruments and process control products for hematology, blood chemistry and gases, and coagulation controls and reagents used in various diagnostic applications. The company has strategic partnership with ALZpath, Inc. to accelerate breakthroughs in neurodegenerative disease research and treatment, including Alzheimer's disease. The company was formerly known as Techne Corporation and changed its name to Bio-Techne Corporation in November 2014. Bio-Techne Corporation was incorporated in 1976 and is headquartered in Minneapolis, Minnesota.\",\n          \"The Charles Schwab Corporation, together with its subsidiaries, operates as a savings and loan holding company that provides wealth management, securities brokerage, banking, asset management, custody, and financial advisory services in the United States and internationally. The company operates in two segments, Investor Services and Advisor Services. It offers brokerage accounts with equity and fixed income trading, margin lending, options trading, futures and forex trading, and cash management capabilities, including certificates of deposit; third-party mutual funds through the Mutual Fund Marketplace and Mutual Fund OneSource service, as well as mutual fund trading and clearing services to broker-dealers; exchange-traded funds; advisory solutions for managed portfolios, separately managed accounts, customized personal advice for tailored portfolios, specialized planning, and full-time portfolio management; banking products comprising checking and savings accounts, first lien residential real estate mortgage loans, home equity lines of credit, and pledged asset lines; and trust custody services, personal trust reporting services, and administrative trustee services. It also provides digital retirement calculators; integrated web-, mobile-, and software-based trading platforms, real-time market data, options trading, premium research, and multi-channel access; self-service education and support tools; online research and analysis tools; equity compensation plan sponsors full-service recordkeeping for stock plans, stock options, restricted stock, performance shares, and stock appreciation rights; retirement plan services; mutual fund clearing services; and advisor services, including interactive tools and educational content. The Company operates through branch offices. The Charles Schwab Corporation was founded in 1971 and is headquartered in Westlake, Texas.\",\n          \"Hess Corporation, an exploration and production company, explores, develops, produces, purchases, transports, and sells crude oil, natural gas liquids (NGLs), and natural gas. The company operates in two segments, Exploration and Production, and Midstream. It conducts production operations primarily in the United States, Guyana, the Malaysia/Thailand Joint Development Area, and Malaysia; and exploration activities principally offshore Guyana, the U.S. Gulf of Mexico, and offshore Suriname and Canada. The company is also involved in gathering, compressing, and processing natural gas; fractionating NGLs; gathering, terminaling, loading, and transporting crude oil and NGL through rail car; and storing and terminaling propane, as well as providing water handling services primarily in the Bakken Shale plays in the Williston Basin area of North Dakota. The company was incorporated in 1920 and is headquartered in New York, New York.\"\n        ],\n        \"semantic_type\": \"\",\n        \"description\": \"\"\n      }\n    },\n    {\n      \"column\": \"Weight\",\n      \"properties\": {\n        \"dtype\": \"number\",\n        \"std\": 0.006189128132760053,\n        \"min\": 8.39130444266517e-05,\n        \"max\": 0.0692091524397274,\n        \"num_unique_values\": 502,\n        \"samples\": [\n          0.0005766377462676,\n          0.0024501679824236,\n          0.0005323854581097\n        ],\n        \"semantic_type\": \"\",\n        \"description\": \"\"\n      }\n    }\n  ]\n}"
            }
          },
          "metadata": {},
          "execution_count": 38
        }
      ]
    },
    {
      "cell_type": "code",
      "source": [
        "# Review the basic info and summary statistics of the dataset\n",
        "print(df_companies.info())\n",
        "print(df_companies.describe())"
      ],
      "metadata": {
        "colab": {
          "base_uri": "https://localhost:8080/"
        },
        "id": "1rKjt82-clFH",
        "outputId": "c81f332c-9608-46b1-ffb6-48f5b32a452d"
      },
      "execution_count": 39,
      "outputs": [
        {
          "output_type": "stream",
          "name": "stdout",
          "text": [
            "<class 'pandas.core.frame.DataFrame'>\n",
            "RangeIndex: 502 entries, 0 to 501\n",
            "Data columns (total 16 columns):\n",
            " #   Column               Non-Null Count  Dtype  \n",
            "---  ------               --------------  -----  \n",
            " 0   Exchange             502 non-null    object \n",
            " 1   Symbol               502 non-null    object \n",
            " 2   Shortname            502 non-null    object \n",
            " 3   Longname             502 non-null    object \n",
            " 4   Sector               502 non-null    object \n",
            " 5   Industry             502 non-null    object \n",
            " 6   Currentprice         502 non-null    float64\n",
            " 7   Marketcap            502 non-null    int64  \n",
            " 8   Ebitda               473 non-null    float64\n",
            " 9   Revenuegrowth        499 non-null    float64\n",
            " 10  City                 502 non-null    object \n",
            " 11  State                482 non-null    object \n",
            " 12  Country              502 non-null    object \n",
            " 13  Fulltimeemployees    493 non-null    float64\n",
            " 14  Longbusinesssummary  502 non-null    object \n",
            " 15  Weight               502 non-null    float64\n",
            "dtypes: float64(5), int64(1), object(10)\n",
            "memory usage: 62.9+ KB\n",
            "None\n",
            "       Currentprice     Marketcap        Ebitda  Revenuegrowth  \\\n",
            "count    502.000000  5.020000e+02  4.730000e+02     499.000000   \n",
            "mean     217.893685  1.107222e+11  7.045286e+09       0.070541   \n",
            "std      489.205027  3.440074e+11  1.624213e+10       0.180247   \n",
            "min        9.400000  4.664099e+09 -3.991000e+09      -0.602000   \n",
            "25%       68.547500  1.933417e+10  1.625000e+09       0.002000   \n",
            "50%      118.365000  3.706396e+10  2.952748e+09       0.051000   \n",
            "75%      227.667500  7.830565e+10  6.020000e+09       0.109000   \n",
            "max     8276.780000  3.846820e+12  1.495470e+11       1.632000   \n",
            "\n",
            "       Fulltimeemployees      Weight  \n",
            "count       4.930000e+02  502.000000  \n",
            "mean        5.782761e+04    0.001992  \n",
            "std         1.395988e+05    0.006189  \n",
            "min         2.800000e+01    0.000084  \n",
            "25%         1.020000e+04    0.000348  \n",
            "50%         2.169000e+04    0.000667  \n",
            "75%         5.510000e+04    0.001409  \n",
            "max         2.100000e+06    0.069209  \n"
          ]
        }
      ]
    },
    {
      "cell_type": "markdown",
      "source": [
        "# **2. Identify and Handle Missing Values:**"
      ],
      "metadata": {
        "id": "ga_EerM9eCGT"
      }
    },
    {
      "cell_type": "code",
      "source": [
        "# Print the percentage of missing values per column\n",
        "print(df_companies.isnull().sum() / len(df_companies) * 100)"
      ],
      "metadata": {
        "colab": {
          "base_uri": "https://localhost:8080/"
        },
        "id": "XFH-wNNLeDCt",
        "outputId": "0b867fe8-7914-44f4-9076-52a0385aacee"
      },
      "execution_count": 40,
      "outputs": [
        {
          "output_type": "stream",
          "name": "stdout",
          "text": [
            "Exchange               0.000000\n",
            "Symbol                 0.000000\n",
            "Shortname              0.000000\n",
            "Longname               0.000000\n",
            "Sector                 0.000000\n",
            "Industry               0.000000\n",
            "Currentprice           0.000000\n",
            "Marketcap              0.000000\n",
            "Ebitda                 5.776892\n",
            "Revenuegrowth          0.597610\n",
            "City                   0.000000\n",
            "State                  3.984064\n",
            "Country                0.000000\n",
            "Fulltimeemployees      1.792829\n",
            "Longbusinesssummary    0.000000\n",
            "Weight                 0.000000\n",
            "dtype: float64\n"
          ]
        }
      ]
    },
    {
      "cell_type": "code",
      "source": [
        "# Mean imputation\n",
        "mean_columns = ['Ebitda', 'Revenuegrowth']\n",
        "\n",
        "for col in mean_columns:\n",
        "    mean_imputer = SimpleImputer(strategy='median')\n",
        "    df_companies[col] = np.round(mean_imputer.fit_transform(df_companies[[col]]))\n",
        "\n",
        "# Median imputation\n",
        "median_imputer = SimpleImputer(strategy='median')\n",
        "df_companies['Fulltimeemployees'] = median_imputer.fit_transform(df_companies[['Fulltimeemployees']])"
      ],
      "metadata": {
        "id": "s6uw_5KSeSNq"
      },
      "execution_count": 41,
      "outputs": []
    },
    {
      "cell_type": "code",
      "source": [
        "# Display rows where 'State' is missing\n",
        "missing_state_rows = df_companies[df_companies['State'].isna()]\n",
        "print(missing_state_rows)"
      ],
      "metadata": {
        "colab": {
          "base_uri": "https://localhost:8080/"
        },
        "id": "bRHF-iLghiA0",
        "outputId": "9d52ce25-22a2-4319-81ef-fb1cc1cd3753"
      },
      "execution_count": 42,
      "outputs": [
        {
          "output_type": "stream",
          "name": "stdout",
          "text": [
            "    Exchange Symbol                        Shortname  \\\n",
            "32       NYQ    ACN                    Accenture plc   \n",
            "40       NMS    LIN                        Linde plc   \n",
            "75       NYQ    ETN           Eaton Corporation, PLC   \n",
            "90       NYQ     CB                    Chubb Limited   \n",
            "94       NYQ    MDT                   Medtronic plc.   \n",
            "112      NYQ     TT           Trane Technologies plc   \n",
            "127      NYQ    AON                          Aon plc   \n",
            "179      NMS   NXPI          NXP Semiconductors N.V.   \n",
            "180      NYQ    JCI  Johnson Controls International    \n",
            "218      NYQ    TEL              TE Connectivity plc   \n",
            "228      NYQ   GRMN                      Garmin Ltd.   \n",
            "260      NMS   ACGL          Arch Capital Group Ltd.   \n",
            "271      NMS    WTW  Willis Towers Watson Public Lim   \n",
            "307      NYQ     SW             Smurfit WestRock plc   \n",
            "385      NMS    STX  Seagate Technology Holdings PLC   \n",
            "406      NYQ    PNR                     Pentair plc.   \n",
            "422      NYQ     EG              Everest Group, Ltd.   \n",
            "439      NYQ   APTV                        Aptiv PLC   \n",
            "441      NYQ   AMCR                        Amcor plc   \n",
            "465      NYQ   ALLE                     Allegion plc   \n",
            "\n",
            "                                        Longname              Sector  \\\n",
            "32                                 Accenture plc          Technology   \n",
            "40                                     Linde plc     Basic Materials   \n",
            "75                         Eaton Corporation plc         Industrials   \n",
            "90                                 Chubb Limited  Financial Services   \n",
            "94                                 Medtronic plc          Healthcare   \n",
            "112                       Trane Technologies plc         Industrials   \n",
            "127                                      Aon plc  Financial Services   \n",
            "179                      NXP Semiconductors N.V.          Technology   \n",
            "180           Johnson Controls International plc         Industrials   \n",
            "218                          TE Connectivity plc          Technology   \n",
            "228                                  Garmin Ltd.          Technology   \n",
            "260                      Arch Capital Group Ltd.  Financial Services   \n",
            "271  Willis Towers Watson Public Limited Company  Financial Services   \n",
            "307                         Smurfit Westrock Plc   Consumer Cyclical   \n",
            "385              Seagate Technology Holdings plc          Technology   \n",
            "406                                  Pentair plc         Industrials   \n",
            "422                          Everest Group, Ltd.  Financial Services   \n",
            "439                                    Aptiv PLC   Consumer Cyclical   \n",
            "441                                    Amcor plc   Consumer Cyclical   \n",
            "465                                 Allegion plc         Industrials   \n",
            "\n",
            "                               Industry  Currentprice     Marketcap  \\\n",
            "32      Information Technology Services        366.37  229157109760   \n",
            "40                  Specialty Chemicals        424.31  202038607872   \n",
            "75       Specialty Industrial Machinery        338.12  133625020416   \n",
            "90      Insurance - Property & Casualty        273.20  110126374912   \n",
            "94                      Medical Devices         81.03  103903961088   \n",
            "112       Building Products & Equipment        377.11   84858798080   \n",
            "127                   Insurance Brokers        358.47   77524877312   \n",
            "179                      Semiconductors        210.24   53433757696   \n",
            "180       Building Products & Equipment         80.64   53398601728   \n",
            "218               Electronic Components        143.67   42980601856   \n",
            "228  Scientific & Technical Instruments        208.99   40131305472   \n",
            "260             Insurance - Diversified         90.99   34234257408   \n",
            "271                   Insurance Brokers        317.57   31987238912   \n",
            "307              Packaging & Containers         53.28   27713910784   \n",
            "385                   Computer Hardware         87.31   18468683776   \n",
            "406      Specialty Industrial Machinery        101.95   16845300736   \n",
            "422             Insurance - Reinsurance        356.64   15327888384   \n",
            "439                          Auto Parts         58.86   13834219520   \n",
            "441              Packaging & Containers          9.40   13586195456   \n",
            "465      Security & Protection Services        132.18   11490313216   \n",
            "\n",
            "           Ebitda  Revenuegrowth          City State         Country  \\\n",
            "32   1.106591e+10            0.0        Dublin   NaN         Ireland   \n",
            "40   1.258100e+10            0.0        Woking   NaN  United Kingdom   \n",
            "75   5.450000e+09            0.0        Dublin   NaN         Ireland   \n",
            "90   1.136300e+10            0.0        Zurich   NaN     Switzerland   \n",
            "94   9.013000e+09            0.0        Galway   NaN         Ireland   \n",
            "112  3.691200e+09            0.0        Swords   NaN         Ireland   \n",
            "127  4.295000e+09            0.0        Dublin   NaN         Ireland   \n",
            "179  4.640000e+09           -0.0     Eindhoven   NaN     Netherlands   \n",
            "180  3.232000e+09           -0.0          Cork   NaN         Ireland   \n",
            "218  3.762000e+09            0.0     Ballybrit   NaN         Ireland   \n",
            "228  1.596897e+09            0.0  Schaffhausen   NaN     Switzerland   \n",
            "260  5.172000e+09            0.0      Pembroke   NaN         Bermuda   \n",
            "271  2.581000e+09            0.0        London   NaN  United Kingdom   \n",
            "307  2.173000e+09            2.0        Dublin   NaN         Ireland   \n",
            "385  1.211000e+09            0.0     Singapore   NaN       Singapore   \n",
            "406  9.787000e+08           -0.0        London   NaN  United Kingdom   \n",
            "422  2.952748e+09            0.0      Hamilton   NaN         Bermuda   \n",
            "439  3.033000e+09           -0.0        Dublin   NaN         Ireland   \n",
            "441  1.904000e+09           -0.0        Zurich   NaN     Switzerland   \n",
            "465  8.884000e+08            0.0        Dublin   NaN         Ireland   \n",
            "\n",
            "     Fulltimeemployees                                Longbusinesssummary  \\\n",
            "32            774000.0  Accenture plc provides strategy and consulting...   \n",
            "40             65596.0  Linde plc operates as an industrial gas compan...   \n",
            "75             94000.0  Eaton Corporation plc operates as a power mana...   \n",
            "90             40000.0  Chubb Limited provides insurance and reinsuran...   \n",
            "94             95000.0  Medtronic plc develops, manufactures, and sell...   \n",
            "112            40000.0  Trane Technologies plc, together with its subs...   \n",
            "127            50000.0  Aon plc, a professional services firm, provide...   \n",
            "179            34200.0  NXP Semiconductors N.V. offers various semicon...   \n",
            "180           100000.0  Johnson Controls International plc, together w...   \n",
            "218            87000.0  TE Connectivity plc, together with its subsidi...   \n",
            "228            19900.0  Garmin Ltd. designs, develops, manufactures, m...   \n",
            "260             6400.0  Arch Capital Group Ltd., together with its sub...   \n",
            "271            48000.0  Willis Towers Watson Public Limited Company op...   \n",
            "307           100000.0  Smurfit Westrock Plc, together with its subsid...   \n",
            "385            30000.0  Seagate Technology Holdings plc engages in the...   \n",
            "406            10500.0  Pentair plc provides various water solutions i...   \n",
            "422             2844.0  Everest Group, Ltd., through its subsidiaries,...   \n",
            "439           154000.0  Aptiv PLC engages in design, manufacture, and ...   \n",
            "441            41000.0  Amcor plc develops, produces, and sells packag...   \n",
            "465            12200.0  Allegion plc manufactures and sells mechanical...   \n",
            "\n",
            "       Weight  \n",
            "32   0.004123  \n",
            "40   0.003635  \n",
            "75   0.002404  \n",
            "90   0.001981  \n",
            "94   0.001869  \n",
            "112  0.001527  \n",
            "127  0.001395  \n",
            "179  0.000961  \n",
            "180  0.000961  \n",
            "218  0.000773  \n",
            "228  0.000722  \n",
            "260  0.000616  \n",
            "271  0.000575  \n",
            "307  0.000499  \n",
            "385  0.000332  \n",
            "406  0.000303  \n",
            "422  0.000276  \n",
            "439  0.000249  \n",
            "441  0.000244  \n",
            "465  0.000207  \n"
          ]
        }
      ]
    },
    {
      "cell_type": "code",
      "source": [
        "# Since it is not wise to impute using Mode and the US states, we just fill the missing states for other countries with N/A\n",
        "df_companies['State'] = df_companies['State'].fillna('N/A')"
      ],
      "metadata": {
        "id": "PBo7hbsliwKC"
      },
      "execution_count": 43,
      "outputs": []
    },
    {
      "cell_type": "code",
      "source": [
        "# Print the percentage of missing values per column\n",
        "print(df_companies.isnull().sum() / len(df_companies) * 100)"
      ],
      "metadata": {
        "colab": {
          "base_uri": "https://localhost:8080/"
        },
        "id": "4ayPS501jHiP",
        "outputId": "ea565a8b-02be-43a7-ead6-fdbd822ffe41"
      },
      "execution_count": 44,
      "outputs": [
        {
          "output_type": "stream",
          "name": "stdout",
          "text": [
            "Exchange               0.0\n",
            "Symbol                 0.0\n",
            "Shortname              0.0\n",
            "Longname               0.0\n",
            "Sector                 0.0\n",
            "Industry               0.0\n",
            "Currentprice           0.0\n",
            "Marketcap              0.0\n",
            "Ebitda                 0.0\n",
            "Revenuegrowth          0.0\n",
            "City                   0.0\n",
            "State                  0.0\n",
            "Country                0.0\n",
            "Fulltimeemployees      0.0\n",
            "Longbusinesssummary    0.0\n",
            "Weight                 0.0\n",
            "dtype: float64\n"
          ]
        }
      ]
    },
    {
      "cell_type": "markdown",
      "source": [
        "# **3. Standardize Data:**\n",
        "\n",
        "*Note:* It is generally advised that for portfolio optimization using hill climbing and genetic algorithms, it is generally recommended to standardize the data rather than normalize it.\n",
        "\n",
        "That is because both algorithms are sensitive to the scale of the feature. Hence, the larger the values, the better the solution could be from the optimization process."
      ],
      "metadata": {
        "id": "bIX8y5BTy0VK"
      }
    },
    {
      "cell_type": "code",
      "source": [
        "# Select numerical columns for standardization automatically\n",
        "numerical_cols = df_companies.select_dtypes(include=['number']).columns\n",
        "\n",
        "# Standardize\n",
        "scaler = StandardScaler()\n",
        "df_companies[numerical_cols] = scaler.fit_transform(df_companies[numerical_cols])"
      ],
      "metadata": {
        "id": "1z0klnsZyzaZ"
      },
      "execution_count": 45,
      "outputs": []
    },
    {
      "cell_type": "code",
      "source": [
        "# Initialize a LabelEncoder object\n",
        "label_encoder = LabelEncoder()\n",
        "\n",
        "# Identify categorical columns\n",
        "\n",
        "categorical_cols = df_companies.select_dtypes(include=['object']).columns\n",
        "\n",
        "# Apply Label Encoding to each categorical column\n",
        "for col in categorical_cols:\n",
        "    df_companies[col] = label_encoder.fit_transform(df_companies[col])"
      ],
      "metadata": {
        "id": "5qjf-VzGzZSS"
      },
      "execution_count": 46,
      "outputs": []
    },
    {
      "cell_type": "markdown",
      "source": [
        "# **4. Portfolio Optimization:**"
      ],
      "metadata": {
        "id": "jE42eRGt0O1m"
      }
    },
    {
      "cell_type": "code",
      "source": [
        "# Extract relevant features\n",
        "features = ['Currentprice', 'Marketcap', 'Revenuegrowth', 'Sector']\n",
        "data = df_companies[features].values\n",
        "\n",
        "# Define fitness function (Sharpe ratio approximation)\n",
        "def fitness(portfolio):\n",
        "    returns = np.mean(portfolio[:, 2])  # Approximate expected return\n",
        "    risk = np.std(portfolio[:, 2])  # Approximate volatility\n",
        "    return returns / (risk + 1e-6)  # Avoid division by zero"
      ],
      "metadata": {
        "id": "1-y6q4_p3Ii4"
      },
      "execution_count": 47,
      "outputs": []
    },
    {
      "cell_type": "code",
      "source": [
        "# Hill Climbing Algorithm\n",
        "def hill_climbing(data, iterations=1000):\n",
        "    best_portfolio = data[np.random.choice(len(data), size=3, replace=False)]\n",
        "    best_score = fitness(best_portfolio)\n",
        "    scores = [best_score]\n",
        "\n",
        "    for _ in range(iterations):\n",
        "        new_portfolio = best_portfolio.copy()\n",
        "        new_portfolio[random.randint(0, 2)] = data[random.randint(0, len(data)-1)]\n",
        "        new_score = fitness(new_portfolio)\n",
        "\n",
        "        if new_score > best_score:\n",
        "            best_portfolio, best_score = new_portfolio, new_score\n",
        "        scores.append(best_score)\n",
        "\n",
        "    return best_portfolio, best_score, scores  # Return convergence scores"
      ],
      "metadata": {
        "id": "l7SiGfA94TN2"
      },
      "execution_count": 48,
      "outputs": []
    },
    {
      "cell_type": "code",
      "source": [
        "# Genetic Algorithm\n",
        "def genetic_algorithm(data, pop_size=10, generations=50, mutation_rate=0.1):\n",
        "    population = [data[np.random.choice(len(data), size=3, replace=False)] for _ in range(pop_size)]\n",
        "    best_portfolio = None\n",
        "    best_score = -np.inf\n",
        "    scores = []\n",
        "\n",
        "    for _ in range(generations):\n",
        "        current_scores = np.array([fitness(p) for p in population])  # Convert scores to NumPy array\n",
        "        sorted_indices = np.argsort(current_scores)[::-1]  # Get indices sorted in descending order\n",
        "        sorted_pop = [population[i] for i in sorted_indices]  # Sort population accordingly\n",
        "\n",
        "        new_population = sorted_pop[:pop_size//2]  # Select best half\n",
        "\n",
        "        while len(new_population) < pop_size:\n",
        "            p1, p2 = random.sample(new_population, 2)\n",
        "            crossover_point = random.randint(0, 2)\n",
        "            child = np.vstack((p1[:crossover_point], p2[crossover_point:]))\n",
        "\n",
        "            if random.random() < mutation_rate:\n",
        "                child[random.randint(0, 2)] = data[random.randint(0, len(data)-1)]\n",
        "            new_population.append(child)\n",
        "\n",
        "        population = new_population\n",
        "        current_best_score = np.max(current_scores)\n",
        "        if current_best_score > best_score:\n",
        "            best_score = current_best_score\n",
        "            best_portfolio = population[np.argmax(current_scores)]\n",
        "\n",
        "        scores.append(best_score)\n",
        "\n",
        "    return best_portfolio, best_score, scores  # Return convergence scores"
      ],
      "metadata": {
        "id": "Lu-sOWLT4UJI"
      },
      "execution_count": 49,
      "outputs": []
    },
    {
      "cell_type": "markdown",
      "source": [
        "# **5. Performance Metrics:**"
      ],
      "metadata": {
        "id": "hOkk_3Bv3ZQ1"
      }
    },
    {
      "cell_type": "code",
      "source": [
        "hc_scores, ga_scores = [], []\n",
        "hc_times, ga_times = [], []\n",
        "hc_space, ga_space = [], []\n",
        "hc_convergence, ga_convergence = [], []\n",
        "\n",
        "# Function to run the comparison and return convergence data\n",
        "def run_comparison():\n",
        "    # Run algorithms multiple times for stability\n",
        "    for _ in range(10):\n",
        "        # Hill Climbing\n",
        "        start_time = time.time()\n",
        "        hc_portfolio, hc_score, hc_convergence_iteration = hill_climbing(data)\n",
        "        hc_time = time.time() - start_time\n",
        "        hc_scores.append(hc_score)\n",
        "        hc_times.append(hc_time)\n",
        "        hc_space.append(sys.getsizeof(hc_portfolio))\n",
        "        hc_convergence.append(hc_convergence_iteration)\n",
        "\n",
        "        # Genetic Algorithm\n",
        "        start_time = time.time()\n",
        "        ga_portfolio, ga_score, ga_convergence_iteration = genetic_algorithm(data)\n",
        "        ga_time = time.time() - start_time\n",
        "        ga_scores.append(ga_score)\n",
        "        ga_times.append(ga_time)\n",
        "        ga_space.append(sys.getsizeof(ga_portfolio) + sys.getsizeof(data) * 10)  # Population size factor\n",
        "        ga_convergence.append(ga_convergence_iteration)\n",
        "\n",
        "    # Average performance\n",
        "    avg_hc_score = np.mean(hc_scores)\n",
        "    avg_ga_score = np.mean(ga_scores)\n",
        "    avg_hc_time = np.mean(hc_times)\n",
        "    avg_ga_time = np.mean(ga_times)\n",
        "    avg_hc_space = np.mean(hc_space)\n",
        "    avg_ga_space = np.mean(ga_space)\n",
        "\n",
        "    print(f\"Hill Climbing Avg. Score: {avg_hc_score}, Time: {avg_hc_time}s, Space: {avg_hc_space} bytes\")\n",
        "    print(f\"Genetic Algorithm Avg. Score: {avg_ga_score}, Time: {avg_ga_time}s, Space: {avg_ga_space} bytes\")\n",
        "\n",
        "    # Sensitivity Analysis Results (for Genetic Algorithm)\n",
        "    mutation_rates = [0.05, 0.1, 0.2]\n",
        "    population_sizes = [50, 100, 200]\n",
        "    sensitivity_results = {}\n",
        "\n",
        "    for mut in mutation_rates:\n",
        "        for pop in population_sizes:\n",
        "            _, score, _ = genetic_algorithm(data, pop_size=pop, mutation_rate=mut)\n",
        "            sensitivity_results[(mut, pop)] = score\n",
        "\n",
        "    print(\"Sensitivity Analysis Results:\")\n",
        "    for (mut, pop), score in sensitivity_results.items():\n",
        "        print(f\"Mutation Rate: {mut}, Population Size: {pop}, Score: {score}\")\n",
        "\n",
        "    return hc_convergence, ga_convergence"
      ],
      "metadata": {
        "id": "dtrSeaGp75Lp"
      },
      "execution_count": 50,
      "outputs": []
    },
    {
      "cell_type": "markdown",
      "source": [
        "# **6. Comparison and Results:**"
      ],
      "metadata": {
        "id": "OMJzriNO3jNg"
      }
    },
    {
      "cell_type": "code",
      "source": [
        "hc_convergence, ga_convergence = run_comparison()\n",
        "\n",
        "# Plot convergence over time (iterations)\n",
        "plt.figure(figsize=(10, 6))\n",
        "plt.plot(hc_convergence, label='Hill Climbing')\n",
        "plt.plot(ga_convergence, label='Genetic Algorithm')\n",
        "plt.xlabel('Iterations')\n",
        "plt.ylabel('Fitness Score')\n",
        "plt.title('Convergence Plot')\n",
        "plt.show()\n",
        "\n",
        "# Additional comparison of time vs score\n",
        "plt.figure(figsize=(10, 6))\n",
        "plt.bar(['Hill Climbing', 'Genetic Algorithm'], [np.mean(hc_times), np.mean(ga_times)])\n",
        "plt.ylabel('Average Time (s)')\n",
        "plt.title('Time Comparison')\n",
        "plt.show()\n",
        "\n",
        "plt.figure(figsize=(10, 6))\n",
        "plt.bar(['Hill Climbing', 'Genetic Algorithm'], [np.mean(hc_scores), np.mean(ga_scores)])\n",
        "plt.ylabel('Average Score')\n",
        "plt.title('Score Comparison')\n",
        "plt.show()\n",
        "\n",
        "# Space Comparison\n",
        "plt.figure(figsize=(10, 6))\n",
        "plt.bar(['Hill Climbing', 'Genetic Algorithm'], [np.mean(hc_space), np.mean(ga_space)])\n",
        "plt.ylabel('Average Score')\n",
        "plt.title('Space (Memory) Comparison')\n",
        "plt.show()"
      ],
      "metadata": {
        "colab": {
          "base_uri": "https://localhost:8080/",
          "height": 1000
        },
        "id": "HmwIcJ1m3CZ6",
        "outputId": "2ab52025-b417-44c2-e1d5-0615a8b3cdb4"
      },
      "execution_count": 51,
      "outputs": [
        {
          "output_type": "stream",
          "name": "stdout",
          "text": [
            "Hill Climbing Avg. Score: 5331917.359075306, Time: 0.034874677658081055s, Space: 224.0 bytes\n",
            "Genetic Algorithm Avg. Score: -36042.088808430104, Time: 0.01902904510498047s, Space: 1504.0 bytes\n",
            "Sensitivity Analysis Results:\n",
            "Mutation Rate: 0.05, Population Size: 50, Score: 0.6648491699789824\n",
            "Mutation Rate: 0.05, Population Size: 100, Score: 5911002.775386217\n",
            "Mutation Rate: 0.05, Population Size: 200, Score: 5911002.775386217\n",
            "Mutation Rate: 0.1, Population Size: 50, Score: 5911002.775386217\n",
            "Mutation Rate: 0.1, Population Size: 100, Score: 5911002.775386217\n",
            "Mutation Rate: 0.1, Population Size: 200, Score: 5911002.775386217\n",
            "Mutation Rate: 0.2, Population Size: 50, Score: 5911002.775386217\n",
            "Mutation Rate: 0.2, Population Size: 100, Score: 5911002.775386217\n",
            "Mutation Rate: 0.2, Population Size: 200, Score: 5911002.775386217\n"
          ]
        },
        {
          "output_type": "display_data",
          "data": {
            "text/plain": [
              "<Figure size 1000x600 with 1 Axes>"
            ],
            "image/png": "[encoded data removed]"
          },
          "metadata": {}
        },
        {
          "output_type": "display_data",
          "data": {
            "text/plain": [
              "<Figure size 1000x600 with 1 Axes>"
            ],
            "image/png": "[encoded data removed]"
          },
          "metadata": {}
        },
        {
          "output_type": "display_data",
          "data": {
            "text/plain": [
              "<Figure size 1000x600 with 1 Axes>"
            ],
            "image/png": "[encoded data removed]"
          },
          "metadata": {}
        },
        {
          "output_type": "display_data",
          "data": {
            "text/plain": [
              "<Figure size 1000x600 with 1 Axes>"
            ],
            "image/png": "[encoded data removed]"
          },
          "metadata": {}
        }
      ]
    },
    {
      "cell_type": "markdown",
      "source": [
        "The Hill Climbing algorithm performs better overall, with a high score of 5,911,002.775, though it takes slightly longer and uses less memory (224 bytes). The Genetic Algorithm has a much lower score, making it less effective for this task.\n",
        "\n",
        "In the sensitivity analysis, the best result was achieved with a mutation rate of 0.01 and a population size of 200, which matched Hill Climbing's score.\n",
        "\n",
        "To conclude, Hill Climbing is the more effective algorithm for portfolio optimization in this case."
      ],
      "metadata": {
        "id": "5Ba3FNGy6TXS"
      }
    }
  ]
}
